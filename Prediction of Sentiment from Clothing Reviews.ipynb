{
 "cells": [
  {
   "cell_type": "code",
   "execution_count": 1,
   "metadata": {},
   "outputs": [
    {
     "data": {
      "text/html": [
       "<script>requirejs.config({paths: { 'plotly': ['https://cdn.plot.ly/plotly-latest.min']},});if(!window.Plotly) {{require(['plotly'],function(plotly) {window.Plotly=plotly;});}}</script>"
      ],
      "text/vnd.plotly.v1+html": [
       "<script>requirejs.config({paths: { 'plotly': ['https://cdn.plot.ly/plotly-latest.min']},});if(!window.Plotly) {{require(['plotly'],function(plotly) {window.Plotly=plotly;});}}</script>"
      ]
     },
     "metadata": {},
     "output_type": "display_data"
    }
   ],
   "source": [
    "import pandas as pd\n",
    "import numpy as np\n",
    "import matplotlib.pyplot as plt\n",
    "from wordcloud import WordCloud\n",
    "import seaborn as sns\n",
    "from sklearn.feature_extraction.text import CountVectorizer\n",
    "from sklearn.model_selection import train_test_split\n",
    "from sklearn.linear_model import LogisticRegression\n",
    "from sklearn.naive_bayes import MultinomialNB\n",
    "from sklearn.metrics import roc_curve, auc\n",
    "from sklearn.neural_network import MLPClassifier\n",
    "from sklearn.svm import SVC\n",
    "from plotly import tools\n",
    "import plotly.offline as py\n",
    "py.init_notebook_mode(connected=True)\n",
    "import plotly.graph_objs as go\n",
    "%matplotlib inline"
   ]
  },
  {
   "cell_type": "code",
   "execution_count": 2,
   "metadata": {},
   "outputs": [
    {
     "data": {
      "text/html": [
       "<div>\n",
       "<style>\n",
       "    .dataframe thead tr:only-child th {\n",
       "        text-align: right;\n",
       "    }\n",
       "\n",
       "    .dataframe thead th {\n",
       "        text-align: left;\n",
       "    }\n",
       "\n",
       "    .dataframe tbody tr th {\n",
       "        vertical-align: top;\n",
       "    }\n",
       "</style>\n",
       "<table border=\"1\" class=\"dataframe\">\n",
       "  <thead>\n",
       "    <tr style=\"text-align: right;\">\n",
       "      <th></th>\n",
       "      <th>Review Text</th>\n",
       "      <th>Rating</th>\n",
       "      <th>Class Name</th>\n",
       "      <th>Age</th>\n",
       "    </tr>\n",
       "  </thead>\n",
       "  <tbody>\n",
       "    <tr>\n",
       "      <th>0</th>\n",
       "      <td>Absolutely wonderful - silky and sexy and comf...</td>\n",
       "      <td>4</td>\n",
       "      <td>Intimates</td>\n",
       "      <td>33</td>\n",
       "    </tr>\n",
       "    <tr>\n",
       "      <th>1</th>\n",
       "      <td>Love this dress!  it's sooo pretty.  i happene...</td>\n",
       "      <td>5</td>\n",
       "      <td>Dresses</td>\n",
       "      <td>34</td>\n",
       "    </tr>\n",
       "    <tr>\n",
       "      <th>2</th>\n",
       "      <td>I had such high hopes for this dress and reall...</td>\n",
       "      <td>3</td>\n",
       "      <td>Dresses</td>\n",
       "      <td>60</td>\n",
       "    </tr>\n",
       "    <tr>\n",
       "      <th>3</th>\n",
       "      <td>I love, love, love this jumpsuit. it's fun, fl...</td>\n",
       "      <td>5</td>\n",
       "      <td>Pants</td>\n",
       "      <td>50</td>\n",
       "    </tr>\n",
       "    <tr>\n",
       "      <th>4</th>\n",
       "      <td>This shirt is very flattering to all due to th...</td>\n",
       "      <td>5</td>\n",
       "      <td>Blouses</td>\n",
       "      <td>47</td>\n",
       "    </tr>\n",
       "  </tbody>\n",
       "</table>\n",
       "</div>"
      ],
      "text/plain": [
       "                                         Review Text  Rating Class Name  Age\n",
       "0  Absolutely wonderful - silky and sexy and comf...       4  Intimates   33\n",
       "1  Love this dress!  it's sooo pretty.  i happene...       5    Dresses   34\n",
       "2  I had such high hopes for this dress and reall...       3    Dresses   60\n",
       "3  I love, love, love this jumpsuit. it's fun, fl...       5      Pants   50\n",
       "4  This shirt is very flattering to all due to th...       5    Blouses   47"
      ]
     },
     "execution_count": 2,
     "metadata": {},
     "output_type": "execute_result"
    }
   ],
   "source": [
    "# Reading Data \n",
    "df1 = pd.read_csv('Womens Clothing E-Commerce Reviews.csv')\n",
    "df = df1[['Review Text','Rating','Class Name','Age']]\n",
    "#df.info()\n",
    "#df.describe()\n",
    "df.head()\n",
    "\n"
   ]
  },
  {
   "cell_type": "code",
   "execution_count": 3,
   "metadata": {},
   "outputs": [
    {
     "name": "stderr",
     "output_type": "stream",
     "text": [
      "C:\\Users\\ssn\\Anaconda3\\lib\\site-packages\\ipykernel_launcher.py:2: SettingWithCopyWarning:\n",
      "\n",
      "\n",
      "A value is trying to be set on a copy of a slice from a DataFrame.\n",
      "Try using .loc[row_indexer,col_indexer] = value instead\n",
      "\n",
      "See the caveats in the documentation: http://pandas.pydata.org/pandas-docs/stable/indexing.html#indexing-view-versus-copy\n",
      "\n",
      "C:\\Users\\ssn\\Anaconda3\\lib\\site-packages\\ipykernel_launcher.py:18: SettingWithCopyWarning:\n",
      "\n",
      "\n",
      "A value is trying to be set on a copy of a slice from a DataFrame.\n",
      "Try using .loc[row_indexer,col_indexer] = value instead\n",
      "\n",
      "See the caveats in the documentation: http://pandas.pydata.org/pandas-docs/stable/indexing.html#indexing-view-versus-copy\n",
      "\n"
     ]
    },
    {
     "data": {
      "text/html": [
       "<div>\n",
       "<style>\n",
       "    .dataframe thead tr:only-child th {\n",
       "        text-align: right;\n",
       "    }\n",
       "\n",
       "    .dataframe thead th {\n",
       "        text-align: left;\n",
       "    }\n",
       "\n",
       "    .dataframe tbody tr th {\n",
       "        vertical-align: top;\n",
       "    }\n",
       "</style>\n",
       "<table border=\"1\" class=\"dataframe\">\n",
       "  <thead>\n",
       "    <tr style=\"text-align: right;\">\n",
       "      <th></th>\n",
       "      <th>Review Text</th>\n",
       "      <th>Rating</th>\n",
       "      <th>Class Name</th>\n",
       "      <th>Age</th>\n",
       "      <th>Word Counts</th>\n",
       "    </tr>\n",
       "  </thead>\n",
       "  <tbody>\n",
       "    <tr>\n",
       "      <th>0</th>\n",
       "      <td>Absolutely wonderful - silky and sexy and comf...</td>\n",
       "      <td>4</td>\n",
       "      <td>Intimates</td>\n",
       "      <td>33</td>\n",
       "      <td>{'absolutely': 1, 'and': 2, 'comfortable': 1, ...</td>\n",
       "    </tr>\n",
       "    <tr>\n",
       "      <th>1</th>\n",
       "      <td>Love this dress!  it's sooo pretty.  i happene...</td>\n",
       "      <td>5</td>\n",
       "      <td>Dresses</td>\n",
       "      <td>34</td>\n",
       "      <td>{'am': 1, 'and': 2, 'bc': 2, 'be': 1, 'below':...</td>\n",
       "    </tr>\n",
       "    <tr>\n",
       "      <th>2</th>\n",
       "      <td>I had such high hopes for this dress and reall...</td>\n",
       "      <td>3</td>\n",
       "      <td>Dresses</td>\n",
       "      <td>60</td>\n",
       "      <td>{'and': 3, 'be': 1, 'bottom': 1, 'but': 2, 'ch...</td>\n",
       "    </tr>\n",
       "    <tr>\n",
       "      <th>3</th>\n",
       "      <td>I love, love, love this jumpsuit. it's fun, fl...</td>\n",
       "      <td>5</td>\n",
       "      <td>Pants</td>\n",
       "      <td>50</td>\n",
       "      <td>{'and': 1, 'but': 1, 'compliments': 1, 'every'...</td>\n",
       "    </tr>\n",
       "    <tr>\n",
       "      <th>4</th>\n",
       "      <td>This shirt is very flattering to all due to th...</td>\n",
       "      <td>5</td>\n",
       "      <td>Blouses</td>\n",
       "      <td>47</td>\n",
       "      <td>{'adjustable': 1, 'all': 1, 'and': 1, 'any': 1...</td>\n",
       "    </tr>\n",
       "  </tbody>\n",
       "</table>\n",
       "</div>"
      ],
      "text/plain": [
       "                                         Review Text  Rating Class Name  Age  \\\n",
       "0  Absolutely wonderful - silky and sexy and comf...       4  Intimates   33   \n",
       "1  Love this dress!  it's sooo pretty.  i happene...       5    Dresses   34   \n",
       "2  I had such high hopes for this dress and reall...       3    Dresses   60   \n",
       "3  I love, love, love this jumpsuit. it's fun, fl...       5      Pants   50   \n",
       "4  This shirt is very flattering to all due to th...       5    Blouses   47   \n",
       "\n",
       "                                         Word Counts  \n",
       "0  {'absolutely': 1, 'and': 2, 'comfortable': 1, ...  \n",
       "1  {'am': 1, 'and': 2, 'bc': 2, 'be': 1, 'below':...  \n",
       "2  {'and': 3, 'be': 1, 'bottom': 1, 'but': 2, 'ch...  \n",
       "3  {'and': 1, 'but': 1, 'compliments': 1, 'every'...  \n",
       "4  {'adjustable': 1, 'all': 1, 'and': 1, 'any': 1...  "
      ]
     },
     "execution_count": 3,
     "metadata": {},
     "output_type": "execute_result"
    }
   ],
   "source": [
    "#set(df['Review Tex'])\n",
    "df['Review Text'] = df['Review Text'].fillna('')\n",
    "vectorizer = CountVectorizer()\n",
    "analyzer = vectorizer.build_analyzer()\n",
    "\n",
    "def WordCounts(s):\n",
    "    c = {}\n",
    "    if analyzer(s):\n",
    "        d = {}\n",
    "        w = vectorizer.fit_transform([s]).toarray()\n",
    "        vc = vectorizer.vocabulary_\n",
    "        for k,v in vc.items():\n",
    "            d[v]=k\n",
    "        for index,i in enumerate(w[0]):\n",
    "            c[d[index]] = i\n",
    "    return  c\n",
    "\n",
    "df['Word Counts'] = df['Review Text'].apply(WordCounts)\n",
    "df.head()"
   ]
  },
  {
   "cell_type": "code",
   "execution_count": 4,
   "metadata": {},
   "outputs": [
    {
     "name": "stdout",
     "output_type": "stream",
     "text": [
      "love     8951\n",
      "great    6117\n",
      "super    1726\n",
      "happy     705\n",
      "glad      614\n",
      "dtype: int64\n"
     ]
    },
    {
     "data": {
      "image/png": "[encoded data removed]",
      "text/plain": [
       "<matplotlib.figure.Figure at 0xd317c88>"
      ]
     },
     "metadata": {},
     "output_type": "display_data"
    }
   ],
   "source": [
    "SelectedWords = ['awesome','great','fantastic','extraordinary','amazing','super','magnificent',\n",
    "                 'stunning','impressive','wonderful','breathtaking','love','content','pleased',\n",
    "                 'happy','glad','satisfied','lucky','shocking','cheerful','wow','sad','unhappy',\n",
    "                 'horrible','regret','bad','terrible','annoyed','disappointed','upset','awful',\n",
    "                 'hate']\n",
    "\n",
    "def SelectedCount(dic,word):\n",
    "    if word in dic:\n",
    "        return dic[word]\n",
    "    else:\n",
    "        return 0\n",
    "    \n",
    "dfwc = df.copy()  \n",
    "for word in SelectedWords:\n",
    "    dfwc[word] = dfwc['Word Counts'].apply(SelectedCount,args=(word,))\n",
    "    \n",
    "word_sum = dfwc[SelectedWords].sum() \n",
    "print(word_sum.sort_values(ascending=False).iloc[:5])\n",
    "\n",
    "plt.subplots(figsize=(14,7))\n",
    "wc = WordCloud(background_color='white',\n",
    "                      width=512,\n",
    "                      height=384 ).generate_from_frequencies(word_sum)\n",
    "plt.imshow(wc)\n",
    "plt.axis('off')\n",
    "plt.savefig('graph1.png')\n",
    "plt.show()"
   ]
  },
  {
   "cell_type": "code",
   "execution_count": 5,
   "metadata": {},
   "outputs": [
    {
     "name": "stdout",
     "output_type": "stream",
     "text": [
      "Dresses     6319\n",
      "Knits       4843\n",
      "Blouses     3097\n",
      "Sweaters    1428\n",
      "Pants       1388\n",
      "Name: Class Name, dtype: int64\n"
     ]
    },
    {
     "data": {
      "image/png": "[encoded data removed]",
      "text/plain": [
       "<matplotlib.figure.Figure at 0x15c552e8>"
      ]
     },
     "metadata": {},
     "output_type": "display_data"
    }
   ],
   "source": [
    "print(df['Class Name'].value_counts().iloc[:5])\n",
    "\n",
    "cn = df['Class Name']\n",
    "plt.subplots(figsize=(14,7))\n",
    "wordcloud = WordCloud(background_color='white',\n",
    "                      width=512,\n",
    "                      height=384 \n",
    "                     ).generate(\" \".join(str(c) for c in cn))\n",
    "plt.imshow(wordcloud)\n",
    "plt.axis('off')\n",
    "plt.savefig('graph2.png')\n",
    "plt.show()"
   ]
  },
  {
   "cell_type": "code",
   "execution_count": 6,
   "metadata": {},
   "outputs": [
    {
     "name": "stdout",
     "output_type": "stream",
     "text": [
      "This is the format of your plot grid:\n",
      "[ (1,1) x1,y1 ]  [ (1,2) x2,y2 ]\n",
      "[ (2,1) x3,y3 ]  [ (2,2) x4,y4 ]\n",
      "\n"
     ]
    },
    {
     "data": {
      "application/vnd.plotly.v1+json": {
       "data": [
        {
         "marker": {
          "color": [
           4.154020019373587,
           4.5,
           4,
           4.150815002373793,
           4.260909090909091,
           4.279220779220779,
           4.295454545454546,
           4.360941586748038,
           4.161676646706587,
           4.376712328767123,
           4.278787878787878,
           4.301013024602026,
           4.198170731707317,
           4.265850144092219,
           4.255520504731861,
           4.245502645502645,
           4.285087719298246,
           4.179271708683474,
           4.1971428571428575,
           3.8151260504201683
          ],
          "colorscale": "RdBu"
         },
         "type": "bar",
         "uid": "4d81cd00-d38d-11e8-8f99-40a8f05d3eaf",
         "x": [
          "Blouses",
          "Casual bottoms",
          "Chemises",
          "Dresses",
          "Fine gauge",
          "Intimates",
          "Jackets",
          "Jeans",
          "Knits",
          "Layering",
          "Legwear",
          "Lounge",
          "Outerwear",
          "Pants",
          "Shorts",
          "Skirts",
          "Sleep",
          "Sweaters",
          "Swim",
          "Trend"
         ],
         "xaxis": "x",
         "y": [
          4.15,
          4.5,
          4,
          4.15,
          4.26,
          4.28,
          4.3,
          4.36,
          4.16,
          4.38,
          4.28,
          4.3,
          4.2,
          4.27,
          4.26,
          4.25,
          4.29,
          4.18,
          4.2,
          3.82
         ],
         "yaxis": "y"
        },
        {
         "marker": {
          "color": [
           13131,
           5077,
           2871,
           1565,
           842
          ],
          "colorscale": "RdBu"
         },
         "type": "bar",
         "uid": "4d842e5e-d38d-11e8-9fe0-40a8f05d3eaf",
         "x": [
          5,
          4,
          3,
          2,
          1
         ],
         "xaxis": "x2",
         "y": [
          13131,
          5077,
          2871,
          1565,
          842
         ],
         "yaxis": "y2"
        },
        {
         "marker": {
          "color": [
           44.252502421698416,
           26.5,
           38,
           42.11489159677164,
           44.730909090909094,
           39.15584415584416,
           43.81392045454545,
           43.115954664341764,
           43.63080735081561,
           41.52739726027397,
           41.54545454545455,
           42.7178002894356,
           44.28658536585366,
           44.04755043227666,
           40.72870662460568,
           42.492063492063494,
           43.10087719298246,
           45.06442577030813,
           38.04857142857143,
           44.05882352941177
          ],
          "colorscale": "RdBu"
         },
         "type": "bar",
         "uid": "4d842e5f-d38d-11e8-85a1-40a8f05d3eaf",
         "x": [
          "Blouses",
          "Casual bottoms",
          "Chemises",
          "Dresses",
          "Fine gauge",
          "Intimates",
          "Jackets",
          "Jeans",
          "Knits",
          "Layering",
          "Legwear",
          "Lounge",
          "Outerwear",
          "Pants",
          "Shorts",
          "Skirts",
          "Sleep",
          "Sweaters",
          "Swim",
          "Trend"
         ],
         "xaxis": "x3",
         "y": [
          44.25,
          26.5,
          38,
          42.11,
          44.73,
          39.16,
          43.81,
          43.12,
          43.63,
          41.53,
          41.55,
          42.72,
          44.29,
          44.05,
          40.73,
          42.49,
          43.1,
          45.06,
          38.05,
          44.06
         ],
         "yaxis": "y3"
        },
        {
         "marker": {
          "color": [
           43.69358669833729,
           42.6223642172524,
           42.15848136537792,
           42.887532007090805,
           43.583123905262354
          ],
          "colorscale": "Reds"
         },
         "type": "bar",
         "uid": "4d842e60-d38d-11e8-9904-40a8f05d3eaf",
         "x": [
          1,
          2,
          3,
          4,
          5
         ],
         "xaxis": "x4",
         "y": [
          43.69,
          42.62,
          42.16,
          42.89,
          43.58
         ],
         "yaxis": "y4"
        }
       ],
       "layout": {
        "height": 800,
        "showlegend": false,
        "width": 900,
        "xaxis": {
         "anchor": "y",
         "domain": [
          0,
          0.45
         ],
         "title": "Class"
        },
        "xaxis2": {
         "anchor": "y2",
         "domain": [
          0.55,
          1
         ],
         "title": "Rating"
        },
        "xaxis3": {
         "anchor": "y3",
         "domain": [
          0,
          0.45
         ],
         "title": "Class"
        },
        "xaxis4": {
         "anchor": "y4",
         "domain": [
          0.55,
          1
         ],
         "title": "Rating"
        },
        "yaxis": {
         "anchor": "x",
         "domain": [
          0.575,
          1
         ],
         "title": "Average Rating"
        },
        "yaxis2": {
         "anchor": "x2",
         "domain": [
          0.575,
          1
         ],
         "title": "Count"
        },
        "yaxis3": {
         "anchor": "x3",
         "domain": [
          0,
          0.425
         ],
         "title": "Average Age of the Reviewers"
        },
        "yaxis4": {
         "anchor": "x4",
         "domain": [
          0,
          0.425
         ],
         "title": "Average Age of the Reviewers"
        }
       }
      },
      "text/html": [
       "<div id=\"43c8aad3-6758-4597-90ae-a6ce107405cb\" style=\"height: 800px; width: 900px;\" class=\"plotly-graph-div\"></div><script type=\"text/javascript\">require([\"plotly\"], function(Plotly) { window.PLOTLYENV=window.PLOTLYENV || {};window.PLOTLYENV.BASE_URL=\"https://plot.ly\";Plotly.newPlot(\"43c8aad3-6758-4597-90ae-a6ce107405cb\", [{\"marker\": {\"color\": [4.154020019373587, 4.5, 4.0, 4.150815002373793, 4.260909090909091, 4.279220779220779, 4.295454545454546, 4.360941586748038, 4.161676646706587, 4.376712328767123, 4.278787878787878, 4.301013024602026, 4.198170731707317, 4.265850144092219, 4.255520504731861, 4.245502645502645, 4.285087719298246, 4.179271708683474, 4.1971428571428575, 3.8151260504201683], \"colorscale\": \"RdBu\"}, \"x\": [\"Blouses\", \"Casual bottoms\", \"Chemises\", \"Dresses\", \"Fine gauge\", \"Intimates\", \"Jackets\", \"Jeans\", \"Knits\", \"Layering\", \"Legwear\", \"Lounge\", \"Outerwear\", \"Pants\", \"Shorts\", \"Skirts\", \"Sleep\", \"Sweaters\", \"Swim\", \"Trend\"], \"y\": [4.15, 4.5, 4.0, 4.15, 4.26, 4.28, 4.3, 4.36, 4.16, 4.38, 4.28, 4.3, 4.2, 4.27, 4.26, 4.25, 4.29, 4.18, 4.2, 3.82], \"type\": \"bar\", \"uid\": \"4d81cd00-d38d-11e8-8f99-40a8f05d3eaf\", \"xaxis\": \"x\", \"yaxis\": \"y\"}, {\"marker\": {\"color\": [13131, 5077, 2871, 1565, 842], \"colorscale\": \"RdBu\"}, \"x\": [5, 4, 3, 2, 1], \"y\": [13131, 5077, 2871, 1565, 842], \"type\": \"bar\", \"uid\": \"4d842e5e-d38d-11e8-9fe0-40a8f05d3eaf\", \"xaxis\": \"x2\", \"yaxis\": \"y2\"}, {\"marker\": {\"color\": [44.252502421698416, 26.5, 38.0, 42.11489159677164, 44.730909090909094, 39.15584415584416, 43.81392045454545, 43.115954664341764, 43.63080735081561, 41.52739726027397, 41.54545454545455, 42.7178002894356, 44.28658536585366, 44.04755043227666, 40.72870662460568, 42.492063492063494, 43.10087719298246, 45.06442577030813, 38.04857142857143, 44.05882352941177], \"colorscale\": \"RdBu\"}, \"x\": [\"Blouses\", \"Casual bottoms\", \"Chemises\", \"Dresses\", \"Fine gauge\", \"Intimates\", \"Jackets\", \"Jeans\", \"Knits\", \"Layering\", \"Legwear\", \"Lounge\", \"Outerwear\", \"Pants\", \"Shorts\", \"Skirts\", \"Sleep\", \"Sweaters\", \"Swim\", \"Trend\"], \"y\": [44.25, 26.5, 38.0, 42.11, 44.73, 39.16, 43.81, 43.12, 43.63, 41.53, 41.55, 42.72, 44.29, 44.05, 40.73, 42.49, 43.1, 45.06, 38.05, 44.06], \"type\": \"bar\", \"uid\": \"4d842e5f-d38d-11e8-85a1-40a8f05d3eaf\", \"xaxis\": \"x3\", \"yaxis\": \"y3\"}, {\"marker\": {\"color\": [43.69358669833729, 42.6223642172524, 42.15848136537792, 42.887532007090805, 43.583123905262354], \"colorscale\": \"Reds\"}, \"x\": [1, 2, 3, 4, 5], \"y\": [43.69, 42.62, 42.16, 42.89, 43.58], \"type\": \"bar\", \"uid\": \"4d842e60-d38d-11e8-9904-40a8f05d3eaf\", \"xaxis\": \"x4\", \"yaxis\": \"y4\"}], {\"xaxis\": {\"anchor\": \"y\", \"domain\": [0.0, 0.45], \"title\": \"Class\"}, \"yaxis\": {\"anchor\": \"x\", \"domain\": [0.575, 1.0], \"title\": \"Average Rating\"}, \"xaxis2\": {\"anchor\": \"y2\", \"domain\": [0.55, 1.0], \"title\": \"Rating\"}, \"yaxis2\": {\"anchor\": \"x2\", \"domain\": [0.575, 1.0], \"title\": \"Count\"}, \"xaxis3\": {\"anchor\": \"y3\", \"domain\": [0.0, 0.45], \"title\": \"Class\"}, \"yaxis3\": {\"anchor\": \"x3\", \"domain\": [0.0, 0.425], \"title\": \"Average Age of the Reviewers\"}, \"xaxis4\": {\"anchor\": \"y4\", \"domain\": [0.55, 1.0], \"title\": \"Rating\"}, \"yaxis4\": {\"anchor\": \"x4\", \"domain\": [0.0, 0.425], \"title\": \"Average Age of the Reviewers\"}, \"height\": 800, \"width\": 900, \"showlegend\": false}, {\"showLink\": true, \"linkText\": \"Export to plot.ly\"})});</script>"
      ],
      "text/vnd.plotly.v1+html": [
       "<div id=\"43c8aad3-6758-4597-90ae-a6ce107405cb\" style=\"height: 800px; width: 900px;\" class=\"plotly-graph-div\"></div><script type=\"text/javascript\">require([\"plotly\"], function(Plotly) { window.PLOTLYENV=window.PLOTLYENV || {};window.PLOTLYENV.BASE_URL=\"https://plot.ly\";Plotly.newPlot(\"43c8aad3-6758-4597-90ae-a6ce107405cb\", [{\"marker\": {\"color\": [4.154020019373587, 4.5, 4.0, 4.150815002373793, 4.260909090909091, 4.279220779220779, 4.295454545454546, 4.360941586748038, 4.161676646706587, 4.376712328767123, 4.278787878787878, 4.301013024602026, 4.198170731707317, 4.265850144092219, 4.255520504731861, 4.245502645502645, 4.285087719298246, 4.179271708683474, 4.1971428571428575, 3.8151260504201683], \"colorscale\": \"RdBu\"}, \"x\": [\"Blouses\", \"Casual bottoms\", \"Chemises\", \"Dresses\", \"Fine gauge\", \"Intimates\", \"Jackets\", \"Jeans\", \"Knits\", \"Layering\", \"Legwear\", \"Lounge\", \"Outerwear\", \"Pants\", \"Shorts\", \"Skirts\", \"Sleep\", \"Sweaters\", \"Swim\", \"Trend\"], \"y\": [4.15, 4.5, 4.0, 4.15, 4.26, 4.28, 4.3, 4.36, 4.16, 4.38, 4.28, 4.3, 4.2, 4.27, 4.26, 4.25, 4.29, 4.18, 4.2, 3.82], \"type\": \"bar\", \"uid\": \"4d81cd00-d38d-11e8-8f99-40a8f05d3eaf\", \"xaxis\": \"x\", \"yaxis\": \"y\"}, {\"marker\": {\"color\": [13131, 5077, 2871, 1565, 842], \"colorscale\": \"RdBu\"}, \"x\": [5, 4, 3, 2, 1], \"y\": [13131, 5077, 2871, 1565, 842], \"type\": \"bar\", \"uid\": \"4d842e5e-d38d-11e8-9fe0-40a8f05d3eaf\", \"xaxis\": \"x2\", \"yaxis\": \"y2\"}, {\"marker\": {\"color\": [44.252502421698416, 26.5, 38.0, 42.11489159677164, 44.730909090909094, 39.15584415584416, 43.81392045454545, 43.115954664341764, 43.63080735081561, 41.52739726027397, 41.54545454545455, 42.7178002894356, 44.28658536585366, 44.04755043227666, 40.72870662460568, 42.492063492063494, 43.10087719298246, 45.06442577030813, 38.04857142857143, 44.05882352941177], \"colorscale\": \"RdBu\"}, \"x\": [\"Blouses\", \"Casual bottoms\", \"Chemises\", \"Dresses\", \"Fine gauge\", \"Intimates\", \"Jackets\", \"Jeans\", \"Knits\", \"Layering\", \"Legwear\", \"Lounge\", \"Outerwear\", \"Pants\", \"Shorts\", \"Skirts\", \"Sleep\", \"Sweaters\", \"Swim\", \"Trend\"], \"y\": [44.25, 26.5, 38.0, 42.11, 44.73, 39.16, 43.81, 43.12, 43.63, 41.53, 41.55, 42.72, 44.29, 44.05, 40.73, 42.49, 43.1, 45.06, 38.05, 44.06], \"type\": \"bar\", \"uid\": \"4d842e5f-d38d-11e8-85a1-40a8f05d3eaf\", \"xaxis\": \"x3\", \"yaxis\": \"y3\"}, {\"marker\": {\"color\": [43.69358669833729, 42.6223642172524, 42.15848136537792, 42.887532007090805, 43.583123905262354], \"colorscale\": \"Reds\"}, \"x\": [1, 2, 3, 4, 5], \"y\": [43.69, 42.62, 42.16, 42.89, 43.58], \"type\": \"bar\", \"uid\": \"4d842e60-d38d-11e8-9904-40a8f05d3eaf\", \"xaxis\": \"x4\", \"yaxis\": \"y4\"}], {\"xaxis\": {\"anchor\": \"y\", \"domain\": [0.0, 0.45], \"title\": \"Class\"}, \"yaxis\": {\"anchor\": \"x\", \"domain\": [0.575, 1.0], \"title\": \"Average Rating\"}, \"xaxis2\": {\"anchor\": \"y2\", \"domain\": [0.55, 1.0], \"title\": \"Rating\"}, \"yaxis2\": {\"anchor\": \"x2\", \"domain\": [0.575, 1.0], \"title\": \"Count\"}, \"xaxis3\": {\"anchor\": \"y3\", \"domain\": [0.0, 0.45], \"title\": \"Class\"}, \"yaxis3\": {\"anchor\": \"x3\", \"domain\": [0.0, 0.425], \"title\": \"Average Age of the Reviewers\"}, \"xaxis4\": {\"anchor\": \"y4\", \"domain\": [0.55, 1.0], \"title\": \"Rating\"}, \"yaxis4\": {\"anchor\": \"x4\", \"domain\": [0.0, 0.425], \"title\": \"Average Age of the Reviewers\"}, \"height\": 800, \"width\": 900, \"showlegend\": false}, {\"showLink\": true, \"linkText\": \"Export to plot.ly\"})});</script>"
      ]
     },
     "metadata": {},
     "output_type": "display_data"
    }
   ],
   "source": [
    "df1=df['Rating'].value_counts().to_frame()\n",
    "avgdf1 = df.groupby('Class Name').agg({'Rating': np.average})\n",
    "avgdf2 = df.groupby('Class Name').agg({'Age': np.average})\n",
    "avgdf3 = df.groupby('Rating').agg({'Age': np.average})\n",
    "\n",
    "trace1 = go.Bar(\n",
    "    x=avgdf1.index,\n",
    "    y=round(avgdf1['Rating'],2),\n",
    "    marker=dict(\n",
    "        color=avgdf1['Rating'],\n",
    "        colorscale = 'RdBu')\n",
    ")\n",
    "\n",
    "trace2 = go.Bar(\n",
    "    x=df1.index,\n",
    "    y=df1.Rating,\n",
    "    marker=dict(\n",
    "        color=df1['Rating'],\n",
    "        colorscale = 'RdBu')\n",
    ")\n",
    "\n",
    "trace3 = go.Bar(\n",
    "    x=avgdf2.index,\n",
    "    y=round(avgdf2['Age'],2),\n",
    "    marker=dict(\n",
    "        color=avgdf2['Age'],\n",
    "        colorscale = 'RdBu')\n",
    ")\n",
    "\n",
    "trace4 = go.Bar(\n",
    "    x=avgdf3.index,\n",
    "    y=round(avgdf3['Age'],2),\n",
    "    marker=dict(\n",
    "        color=avgdf3['Age'],\n",
    "        colorscale = 'Reds')\n",
    ")\n",
    "\n",
    "fig = tools.make_subplots(rows=2, cols=2)\n",
    "\n",
    "fig.append_trace(trace1, 1, 1)\n",
    "fig.append_trace(trace2, 1, 2)\n",
    "fig.append_trace(trace3, 2, 1)\n",
    "fig.append_trace(trace4, 2, 2)\n",
    "\n",
    "fig['layout']['xaxis1'].update(title='Class')\n",
    "fig['layout']['yaxis1'].update(title='Average Rating')\n",
    "fig['layout']['xaxis2'].update(title='Rating')\n",
    "fig['layout']['yaxis2'].update(title='Count')\n",
    "fig['layout']['xaxis3'].update(title='Class')\n",
    "fig['layout']['yaxis3'].update(title='Average Age of the Reviewers')\n",
    "fig['layout']['xaxis4'].update(title='Rating')\n",
    "fig['layout']['yaxis4'].update(title='Average Age of the Reviewers')\n",
    "\n",
    "fig['layout'].update(height=800, width=900,showlegend=False)\n",
    "py.iplot(fig)"
   ]
  },
  {
   "cell_type": "code",
   "execution_count": 7,
   "metadata": {},
   "outputs": [
    {
     "data": {
      "application/vnd.plotly.v1+json": {
       "data": [
        {
         "hoverinfo": "text",
         "marker": {
          "color": [
           4.154020019373587,
           4.5,
           4,
           4.150815002373793,
           4.260909090909091,
           4.279220779220779,
           4.295454545454546,
           4.360941586748038,
           4.161676646706587,
           4.376712328767123,
           4.278787878787878,
           4.301013024602026,
           4.198170731707317,
           4.265850144092219,
           4.255520504731861,
           4.245502645502645,
           4.285087719298246,
           4.179271708683474,
           4.1971428571428575,
           3.8151260504201683
          ],
          "size": 10
         },
         "mode": "markers",
         "text": [
          "Class: Blouses \\ Average Rating: 4.15 \\ Number of Sales: 6319",
          "Class: Casual bottoms \\ Average Rating: 4.5 \\ Number of Sales: 4843",
          "Class: Chemises \\ Average Rating: 4.0 \\ Number of Sales: 3097",
          "Class: Dresses \\ Average Rating: 4.15 \\ Number of Sales: 1428",
          "Class: Fine gauge \\ Average Rating: 4.26 \\ Number of Sales: 1388",
          "Class: Intimates \\ Average Rating: 4.28 \\ Number of Sales: 1147",
          "Class: Jackets \\ Average Rating: 4.3 \\ Number of Sales: 1100",
          "Class: Jeans \\ Average Rating: 4.36 \\ Number of Sales: 945",
          "Class: Knits \\ Average Rating: 4.16 \\ Number of Sales: 704",
          "Class: Layering \\ Average Rating: 4.38 \\ Number of Sales: 691",
          "Class: Legwear \\ Average Rating: 4.28 \\ Number of Sales: 350",
          "Class: Lounge \\ Average Rating: 4.3 \\ Number of Sales: 328",
          "Class: Outerwear \\ Average Rating: 4.2 \\ Number of Sales: 317",
          "Class: Pants \\ Average Rating: 4.27 \\ Number of Sales: 228",
          "Class: Shorts \\ Average Rating: 4.26 \\ Number of Sales: 165",
          "Class: Skirts \\ Average Rating: 4.25 \\ Number of Sales: 154",
          "Class: Sleep \\ Average Rating: 4.29 \\ Number of Sales: 146",
          "Class: Sweaters \\ Average Rating: 4.18 \\ Number of Sales: 119",
          "Class: Swim \\ Average Rating: 4.2 \\ Number of Sales: 2",
          "Class: Trend \\ Average Rating: 3.82 \\ Number of Sales: 1"
         ],
         "type": "scatter3d",
         "uid": "50edc764-d38d-11e8-b457-40a8f05d3eaf",
         "x": [
          "Blouses",
          "Casual bottoms",
          "Chemises",
          "Dresses",
          "Fine gauge",
          "Intimates",
          "Jackets",
          "Jeans",
          "Knits",
          "Layering",
          "Legwear",
          "Lounge",
          "Outerwear",
          "Pants",
          "Shorts",
          "Skirts",
          "Sleep",
          "Sweaters",
          "Swim",
          "Trend"
         ],
         "y": [
          4.154020019373587,
          4.5,
          4,
          4.150815002373793,
          4.260909090909091,
          4.279220779220779,
          4.295454545454546,
          4.360941586748038,
          4.161676646706587,
          4.376712328767123,
          4.278787878787878,
          4.301013024602026,
          4.198170731707317,
          4.265850144092219,
          4.255520504731861,
          4.245502645502645,
          4.285087719298246,
          4.179271708683474,
          4.1971428571428575,
          3.8151260504201683
         ],
         "z": [
          6319,
          4843,
          3097,
          1428,
          1388,
          1147,
          1100,
          945,
          704,
          691,
          350,
          328,
          317,
          228,
          165,
          154,
          146,
          119,
          2,
          1
         ]
        }
       ],
       "layout": {
        "margin": {
         "b": 30,
         "l": 30,
         "r": 30,
         "t": 30
        },
        "scene": {
         "xaxis": {
          "title": "Class"
         },
         "yaxis": {
          "title": "Average Rating"
         },
         "zaxis": {
          "title": "Number of Sales"
         }
        },
        "title": "Average Rating & Class & Number of Sales"
       }
      },
      "text/html": [
       "<div id=\"edc66b92-acbc-4807-a934-e8f2c8219b06\" style=\"height: 525px; width: 100%;\" class=\"plotly-graph-div\"></div><script type=\"text/javascript\">require([\"plotly\"], function(Plotly) { window.PLOTLYENV=window.PLOTLYENV || {};window.PLOTLYENV.BASE_URL=\"https://plot.ly\";Plotly.newPlot(\"edc66b92-acbc-4807-a934-e8f2c8219b06\", [{\"hoverinfo\": \"text\", \"marker\": {\"color\": [4.154020019373587, 4.5, 4.0, 4.150815002373793, 4.260909090909091, 4.279220779220779, 4.295454545454546, 4.360941586748038, 4.161676646706587, 4.376712328767123, 4.278787878787878, 4.301013024602026, 4.198170731707317, 4.265850144092219, 4.255520504731861, 4.245502645502645, 4.285087719298246, 4.179271708683474, 4.1971428571428575, 3.8151260504201683], \"size\": 10}, \"mode\": \"markers\", \"text\": [\"Class: Blouses \\\\ Average Rating: 4.15 \\\\ Number of Sales: 6319\", \"Class: Casual bottoms \\\\ Average Rating: 4.5 \\\\ Number of Sales: 4843\", \"Class: Chemises \\\\ Average Rating: 4.0 \\\\ Number of Sales: 3097\", \"Class: Dresses \\\\ Average Rating: 4.15 \\\\ Number of Sales: 1428\", \"Class: Fine gauge \\\\ Average Rating: 4.26 \\\\ Number of Sales: 1388\", \"Class: Intimates \\\\ Average Rating: 4.28 \\\\ Number of Sales: 1147\", \"Class: Jackets \\\\ Average Rating: 4.3 \\\\ Number of Sales: 1100\", \"Class: Jeans \\\\ Average Rating: 4.36 \\\\ Number of Sales: 945\", \"Class: Knits \\\\ Average Rating: 4.16 \\\\ Number of Sales: 704\", \"Class: Layering \\\\ Average Rating: 4.38 \\\\ Number of Sales: 691\", \"Class: Legwear \\\\ Average Rating: 4.28 \\\\ Number of Sales: 350\", \"Class: Lounge \\\\ Average Rating: 4.3 \\\\ Number of Sales: 328\", \"Class: Outerwear \\\\ Average Rating: 4.2 \\\\ Number of Sales: 317\", \"Class: Pants \\\\ Average Rating: 4.27 \\\\ Number of Sales: 228\", \"Class: Shorts \\\\ Average Rating: 4.26 \\\\ Number of Sales: 165\", \"Class: Skirts \\\\ Average Rating: 4.25 \\\\ Number of Sales: 154\", \"Class: Sleep \\\\ Average Rating: 4.29 \\\\ Number of Sales: 146\", \"Class: Sweaters \\\\ Average Rating: 4.18 \\\\ Number of Sales: 119\", \"Class: Swim \\\\ Average Rating: 4.2 \\\\ Number of Sales: 2\", \"Class: Trend \\\\ Average Rating: 3.82 \\\\ Number of Sales: 1\"], \"x\": [\"Blouses\", \"Casual bottoms\", \"Chemises\", \"Dresses\", \"Fine gauge\", \"Intimates\", \"Jackets\", \"Jeans\", \"Knits\", \"Layering\", \"Legwear\", \"Lounge\", \"Outerwear\", \"Pants\", \"Shorts\", \"Skirts\", \"Sleep\", \"Sweaters\", \"Swim\", \"Trend\"], \"y\": [4.154020019373587, 4.5, 4.0, 4.150815002373793, 4.260909090909091, 4.279220779220779, 4.295454545454546, 4.360941586748038, 4.161676646706587, 4.376712328767123, 4.278787878787878, 4.301013024602026, 4.198170731707317, 4.265850144092219, 4.255520504731861, 4.245502645502645, 4.285087719298246, 4.179271708683474, 4.1971428571428575, 3.8151260504201683], \"z\": [6319, 4843, 3097, 1428, 1388, 1147, 1100, 945, 704, 691, 350, 328, 317, 228, 165, 154, 146, 119, 2, 1], \"type\": \"scatter3d\", \"uid\": \"50edc764-d38d-11e8-b457-40a8f05d3eaf\"}], {\"margin\": {\"b\": 30, \"l\": 30, \"r\": 30, \"t\": 30}, \"scene\": {\"xaxis\": {\"title\": \"Class\"}, \"yaxis\": {\"title\": \"Average Rating\"}, \"zaxis\": {\"title\": \"Number of Sales\"}}, \"title\": \"Average Rating & Class & Number of Sales\"}, {\"showLink\": true, \"linkText\": \"Export to plot.ly\"})});</script>"
      ],
      "text/vnd.plotly.v1+html": [
       "<div id=\"edc66b92-acbc-4807-a934-e8f2c8219b06\" style=\"height: 525px; width: 100%;\" class=\"plotly-graph-div\"></div><script type=\"text/javascript\">require([\"plotly\"], function(Plotly) { window.PLOTLYENV=window.PLOTLYENV || {};window.PLOTLYENV.BASE_URL=\"https://plot.ly\";Plotly.newPlot(\"edc66b92-acbc-4807-a934-e8f2c8219b06\", [{\"hoverinfo\": \"text\", \"marker\": {\"color\": [4.154020019373587, 4.5, 4.0, 4.150815002373793, 4.260909090909091, 4.279220779220779, 4.295454545454546, 4.360941586748038, 4.161676646706587, 4.376712328767123, 4.278787878787878, 4.301013024602026, 4.198170731707317, 4.265850144092219, 4.255520504731861, 4.245502645502645, 4.285087719298246, 4.179271708683474, 4.1971428571428575, 3.8151260504201683], \"size\": 10}, \"mode\": \"markers\", \"text\": [\"Class: Blouses \\\\ Average Rating: 4.15 \\\\ Number of Sales: 6319\", \"Class: Casual bottoms \\\\ Average Rating: 4.5 \\\\ Number of Sales: 4843\", \"Class: Chemises \\\\ Average Rating: 4.0 \\\\ Number of Sales: 3097\", \"Class: Dresses \\\\ Average Rating: 4.15 \\\\ Number of Sales: 1428\", \"Class: Fine gauge \\\\ Average Rating: 4.26 \\\\ Number of Sales: 1388\", \"Class: Intimates \\\\ Average Rating: 4.28 \\\\ Number of Sales: 1147\", \"Class: Jackets \\\\ Average Rating: 4.3 \\\\ Number of Sales: 1100\", \"Class: Jeans \\\\ Average Rating: 4.36 \\\\ Number of Sales: 945\", \"Class: Knits \\\\ Average Rating: 4.16 \\\\ Number of Sales: 704\", \"Class: Layering \\\\ Average Rating: 4.38 \\\\ Number of Sales: 691\", \"Class: Legwear \\\\ Average Rating: 4.28 \\\\ Number of Sales: 350\", \"Class: Lounge \\\\ Average Rating: 4.3 \\\\ Number of Sales: 328\", \"Class: Outerwear \\\\ Average Rating: 4.2 \\\\ Number of Sales: 317\", \"Class: Pants \\\\ Average Rating: 4.27 \\\\ Number of Sales: 228\", \"Class: Shorts \\\\ Average Rating: 4.26 \\\\ Number of Sales: 165\", \"Class: Skirts \\\\ Average Rating: 4.25 \\\\ Number of Sales: 154\", \"Class: Sleep \\\\ Average Rating: 4.29 \\\\ Number of Sales: 146\", \"Class: Sweaters \\\\ Average Rating: 4.18 \\\\ Number of Sales: 119\", \"Class: Swim \\\\ Average Rating: 4.2 \\\\ Number of Sales: 2\", \"Class: Trend \\\\ Average Rating: 3.82 \\\\ Number of Sales: 1\"], \"x\": [\"Blouses\", \"Casual bottoms\", \"Chemises\", \"Dresses\", \"Fine gauge\", \"Intimates\", \"Jackets\", \"Jeans\", \"Knits\", \"Layering\", \"Legwear\", \"Lounge\", \"Outerwear\", \"Pants\", \"Shorts\", \"Skirts\", \"Sleep\", \"Sweaters\", \"Swim\", \"Trend\"], \"y\": [4.154020019373587, 4.5, 4.0, 4.150815002373793, 4.260909090909091, 4.279220779220779, 4.295454545454546, 4.360941586748038, 4.161676646706587, 4.376712328767123, 4.278787878787878, 4.301013024602026, 4.198170731707317, 4.265850144092219, 4.255520504731861, 4.245502645502645, 4.285087719298246, 4.179271708683474, 4.1971428571428575, 3.8151260504201683], \"z\": [6319, 4843, 3097, 1428, 1388, 1147, 1100, 945, 704, 691, 350, 328, 317, 228, 165, 154, 146, 119, 2, 1], \"type\": \"scatter3d\", \"uid\": \"50edc764-d38d-11e8-b457-40a8f05d3eaf\"}], {\"margin\": {\"b\": 30, \"l\": 30, \"r\": 30, \"t\": 30}, \"scene\": {\"xaxis\": {\"title\": \"Class\"}, \"yaxis\": {\"title\": \"Average Rating\"}, \"zaxis\": {\"title\": \"Number of Sales\"}}, \"title\": \"Average Rating & Class & Number of Sales\"}, {\"showLink\": true, \"linkText\": \"Export to plot.ly\"})});</script>"
      ]
     },
     "metadata": {},
     "output_type": "display_data"
    },
    {
     "data": {
      "text/plain": [
       "<matplotlib.figure.Figure at 0x189fc390>"
      ]
     },
     "metadata": {},
     "output_type": "display_data"
    }
   ],
   "source": [
    "cv = df['Class Name'].value_counts()\n",
    "\n",
    "trace = go.Scatter3d( x = avgdf1.index,\n",
    "                      y = avgdf1['Rating'],\n",
    "                      z = cv,\n",
    "                      mode = 'markers',\n",
    "                      marker = dict(size=10,color=avgdf1['Rating']),\n",
    "                      hoverinfo =\"text\",\n",
    "                      text=\"Class: \"+avgdf1.index+\" \\ Average Rating: \"+round(avgdf1['Rating'],2).apply(str)+\" \\ Number of Sales: \"+cv.apply(str)\n",
    "                      )\n",
    "\n",
    "data = [trace]\n",
    "layout = go.Layout(title=\"Average Rating & Class & Number of Sales\",\n",
    "                   scene = dict(\n",
    "                    xaxis = dict(title='Class'),\n",
    "                    yaxis = dict(title='Average Rating'),\n",
    "                    zaxis = dict(title='Number of Sales'),),\n",
    "                   margin = dict(l=30, r=30, b=30, t=30))\n",
    "fig = go.Figure(data=data, layout=layout)\n",
    "py.iplot(fig)\n",
    "plt.savefig('3D_Scatter.png')"
   ]
  },
  {
   "cell_type": "code",
   "execution_count": 8,
   "metadata": {},
   "outputs": [
    {
     "data": {
      "text/html": [
       "<div>\n",
       "<style>\n",
       "    .dataframe thead tr:only-child th {\n",
       "        text-align: right;\n",
       "    }\n",
       "\n",
       "    .dataframe thead th {\n",
       "        text-align: left;\n",
       "    }\n",
       "\n",
       "    .dataframe tbody tr th {\n",
       "        vertical-align: top;\n",
       "    }\n",
       "</style>\n",
       "<table border=\"1\" class=\"dataframe\">\n",
       "  <thead>\n",
       "    <tr style=\"text-align: right;\">\n",
       "      <th></th>\n",
       "      <th>Review Text</th>\n",
       "      <th>Rating</th>\n",
       "      <th>Class Name</th>\n",
       "      <th>Age</th>\n",
       "      <th>Word Counts</th>\n",
       "      <th>Sentiment</th>\n",
       "    </tr>\n",
       "  </thead>\n",
       "  <tbody>\n",
       "    <tr>\n",
       "      <th>0</th>\n",
       "      <td>Absolutely wonderful - silky and sexy and comf...</td>\n",
       "      <td>4</td>\n",
       "      <td>Intimates</td>\n",
       "      <td>33</td>\n",
       "      <td>{'absolutely': 1, 'and': 2, 'comfortable': 1, ...</td>\n",
       "      <td>True</td>\n",
       "    </tr>\n",
       "    <tr>\n",
       "      <th>1</th>\n",
       "      <td>Love this dress!  it's sooo pretty.  i happene...</td>\n",
       "      <td>5</td>\n",
       "      <td>Dresses</td>\n",
       "      <td>34</td>\n",
       "      <td>{'am': 1, 'and': 2, 'bc': 2, 'be': 1, 'below':...</td>\n",
       "      <td>True</td>\n",
       "    </tr>\n",
       "    <tr>\n",
       "      <th>3</th>\n",
       "      <td>I love, love, love this jumpsuit. it's fun, fl...</td>\n",
       "      <td>5</td>\n",
       "      <td>Pants</td>\n",
       "      <td>50</td>\n",
       "      <td>{'and': 1, 'but': 1, 'compliments': 1, 'every'...</td>\n",
       "      <td>True</td>\n",
       "    </tr>\n",
       "    <tr>\n",
       "      <th>4</th>\n",
       "      <td>This shirt is very flattering to all due to th...</td>\n",
       "      <td>5</td>\n",
       "      <td>Blouses</td>\n",
       "      <td>47</td>\n",
       "      <td>{'adjustable': 1, 'all': 1, 'and': 1, 'any': 1...</td>\n",
       "      <td>True</td>\n",
       "    </tr>\n",
       "    <tr>\n",
       "      <th>5</th>\n",
       "      <td>I love tracy reese dresses, but this one is no...</td>\n",
       "      <td>2</td>\n",
       "      <td>Dresses</td>\n",
       "      <td>49</td>\n",
       "      <td>{'0p': 1, 'alterations': 1, 'am': 1, 'and': 4,...</td>\n",
       "      <td>False</td>\n",
       "    </tr>\n",
       "  </tbody>\n",
       "</table>\n",
       "</div>"
      ],
      "text/plain": [
       "                                         Review Text  Rating Class Name  Age  \\\n",
       "0  Absolutely wonderful - silky and sexy and comf...       4  Intimates   33   \n",
       "1  Love this dress!  it's sooo pretty.  i happene...       5    Dresses   34   \n",
       "3  I love, love, love this jumpsuit. it's fun, fl...       5      Pants   50   \n",
       "4  This shirt is very flattering to all due to th...       5    Blouses   47   \n",
       "5  I love tracy reese dresses, but this one is no...       2    Dresses   49   \n",
       "\n",
       "                                         Word Counts  Sentiment  \n",
       "0  {'absolutely': 1, 'and': 2, 'comfortable': 1, ...       True  \n",
       "1  {'am': 1, 'and': 2, 'bc': 2, 'be': 1, 'below':...       True  \n",
       "3  {'and': 1, 'but': 1, 'compliments': 1, 'every'...       True  \n",
       "4  {'adjustable': 1, 'all': 1, 'and': 1, 'any': 1...       True  \n",
       "5  {'0p': 1, 'alterations': 1, 'am': 1, 'and': 4,...      False  "
      ]
     },
     "execution_count": 8,
     "metadata": {},
     "output_type": "execute_result"
    }
   ],
   "source": [
    "# Rating of 4 or higher -> positive, while the ones with \n",
    "# Rating of 2 or lower -> negative \n",
    "# Rating of 3 -> neutral\n",
    "df = df[df['Rating'] != 3]\n",
    "df['Sentiment'] = df['Rating'] >=4\n",
    "df.head()"
   ]
  },
  {
   "cell_type": "code",
   "execution_count": 9,
   "metadata": {},
   "outputs": [
    {
     "name": "stderr",
     "output_type": "stream",
     "text": [
      "C:\\Users\\ssn\\Anaconda3\\lib\\site-packages\\sklearn\\model_selection\\_split.py:2026: FutureWarning:\n",
      "\n",
      "From version 0.21, test_size will always complement train_size unless both are specified.\n",
      "\n"
     ]
    }
   ],
   "source": [
    "# splitting data\n",
    "train_data,test_data = train_test_split(df,train_size=0.8,random_state=0)\n",
    "X = vectorizer.fit_transform(train_data['Review Text'])\n",
    "y = train_data['Sentiment']"
   ]
  },
  {
   "cell_type": "code",
   "execution_count": 10,
   "metadata": {},
   "outputs": [
    {
     "data": {
      "text/plain": [
       "LogisticRegression(C=1.0, class_weight=None, dual=False, fit_intercept=True,\n",
       "          intercept_scaling=1, max_iter=100, multi_class='ovr', n_jobs=1,\n",
       "          penalty='l2', random_state=None, solver='liblinear', tol=0.0001,\n",
       "          verbose=0, warm_start=False)"
      ]
     },
     "execution_count": 10,
     "metadata": {},
     "output_type": "execute_result"
    }
   ],
   "source": [
    "lr = LogisticRegression()\n",
    "lr.fit(X,y)"
   ]
  },
  {
   "cell_type": "code",
   "execution_count": 11,
   "metadata": {},
   "outputs": [
    {
     "data": {
      "text/plain": [
       "MultinomialNB(alpha=1.0, class_prior=None, fit_prior=True)"
      ]
     },
     "execution_count": 11,
     "metadata": {},
     "output_type": "execute_result"
    }
   ],
   "source": [
    "nb = MultinomialNB()\n",
    "nb.fit(X,y)"
   ]
  },
  {
   "cell_type": "code",
   "execution_count": 13,
   "metadata": {
    "collapsed": true
   },
   "outputs": [],
   "source": [
    "df1=pd.DataFrame({'Logistic Regression':lr.predict_proba(X)[:,1], 'Naive Bayes':nb.predict_proba(X)[:,1]})"
   ]
  },
  {
   "cell_type": "code",
   "execution_count": 14,
   "metadata": {
    "collapsed": true
   },
   "outputs": [],
   "source": [
    "df['Logistic Regression']=round(df1['Logistic Regression'],2)\n",
    "df['Naive Bayes']=round(df1['Naive Bayes'],2)"
   ]
  },
  {
   "cell_type": "code",
   "execution_count": 15,
   "metadata": {},
   "outputs": [
    {
     "data": {
      "text/html": [
       "<div>\n",
       "<style>\n",
       "    .dataframe thead tr:only-child th {\n",
       "        text-align: right;\n",
       "    }\n",
       "\n",
       "    .dataframe thead th {\n",
       "        text-align: left;\n",
       "    }\n",
       "\n",
       "    .dataframe tbody tr th {\n",
       "        vertical-align: top;\n",
       "    }\n",
       "</style>\n",
       "<table border=\"1\" class=\"dataframe\">\n",
       "  <thead>\n",
       "    <tr style=\"text-align: right;\">\n",
       "      <th></th>\n",
       "      <th>Review Text</th>\n",
       "      <th>Rating</th>\n",
       "      <th>Class Name</th>\n",
       "      <th>Age</th>\n",
       "      <th>Word Counts</th>\n",
       "      <th>Sentiment</th>\n",
       "      <th>Logistic Regression</th>\n",
       "      <th>Naive Bayes</th>\n",
       "    </tr>\n",
       "  </thead>\n",
       "  <tbody>\n",
       "    <tr>\n",
       "      <th>0</th>\n",
       "      <td>Absolutely wonderful - silky and sexy and comf...</td>\n",
       "      <td>4</td>\n",
       "      <td>Intimates</td>\n",
       "      <td>33</td>\n",
       "      <td>{'absolutely': 1, 'and': 2, 'comfortable': 1, ...</td>\n",
       "      <td>True</td>\n",
       "      <td>0.95</td>\n",
       "      <td>0.97</td>\n",
       "    </tr>\n",
       "    <tr>\n",
       "      <th>1</th>\n",
       "      <td>Love this dress!  it's sooo pretty.  i happene...</td>\n",
       "      <td>5</td>\n",
       "      <td>Dresses</td>\n",
       "      <td>34</td>\n",
       "      <td>{'am': 1, 'and': 2, 'bc': 2, 'be': 1, 'below':...</td>\n",
       "      <td>True</td>\n",
       "      <td>0.96</td>\n",
       "      <td>0.99</td>\n",
       "    </tr>\n",
       "    <tr>\n",
       "      <th>3</th>\n",
       "      <td>I love, love, love this jumpsuit. it's fun, fl...</td>\n",
       "      <td>5</td>\n",
       "      <td>Pants</td>\n",
       "      <td>50</td>\n",
       "      <td>{'and': 1, 'but': 1, 'compliments': 1, 'every'...</td>\n",
       "      <td>True</td>\n",
       "      <td>0.83</td>\n",
       "      <td>0.79</td>\n",
       "    </tr>\n",
       "    <tr>\n",
       "      <th>4</th>\n",
       "      <td>This shirt is very flattering to all due to th...</td>\n",
       "      <td>5</td>\n",
       "      <td>Blouses</td>\n",
       "      <td>47</td>\n",
       "      <td>{'adjustable': 1, 'all': 1, 'and': 1, 'any': 1...</td>\n",
       "      <td>True</td>\n",
       "      <td>1.00</td>\n",
       "      <td>1.00</td>\n",
       "    </tr>\n",
       "    <tr>\n",
       "      <th>5</th>\n",
       "      <td>I love tracy reese dresses, but this one is no...</td>\n",
       "      <td>2</td>\n",
       "      <td>Dresses</td>\n",
       "      <td>49</td>\n",
       "      <td>{'0p': 1, 'alterations': 1, 'am': 1, 'and': 4,...</td>\n",
       "      <td>False</td>\n",
       "      <td>0.93</td>\n",
       "      <td>0.02</td>\n",
       "    </tr>\n",
       "  </tbody>\n",
       "</table>\n",
       "</div>"
      ],
      "text/plain": [
       "                                         Review Text  Rating Class Name  Age  \\\n",
       "0  Absolutely wonderful - silky and sexy and comf...       4  Intimates   33   \n",
       "1  Love this dress!  it's sooo pretty.  i happene...       5    Dresses   34   \n",
       "3  I love, love, love this jumpsuit. it's fun, fl...       5      Pants   50   \n",
       "4  This shirt is very flattering to all due to th...       5    Blouses   47   \n",
       "5  I love tracy reese dresses, but this one is no...       2    Dresses   49   \n",
       "\n",
       "                                         Word Counts  Sentiment  \\\n",
       "0  {'absolutely': 1, 'and': 2, 'comfortable': 1, ...       True   \n",
       "1  {'am': 1, 'and': 2, 'bc': 2, 'be': 1, 'below':...       True   \n",
       "3  {'and': 1, 'but': 1, 'compliments': 1, 'every'...       True   \n",
       "4  {'adjustable': 1, 'all': 1, 'and': 1, 'any': 1...       True   \n",
       "5  {'0p': 1, 'alterations': 1, 'am': 1, 'and': 4,...      False   \n",
       "\n",
       "   Logistic Regression  Naive Bayes  \n",
       "0                 0.95         0.97  \n",
       "1                 0.96         0.99  \n",
       "3                 0.83         0.79  \n",
       "4                 1.00         1.00  \n",
       "5                 0.93         0.02  "
      ]
     },
     "execution_count": 15,
     "metadata": {},
     "output_type": "execute_result"
    }
   ],
   "source": [
    "df.head()"
   ]
  },
  {
   "cell_type": "code",
   "execution_count": 16,
   "metadata": {
    "collapsed": true
   },
   "outputs": [],
   "source": [
    "pred_lr = lr.predict_proba(vectorizer.transform(test_data['Review Text']))[:,1]\n",
    "fpr_lr,tpr_lr,_ = roc_curve(test_data['Sentiment'].values,pred_lr)\n",
    "roc_auc_lr = auc(fpr_lr,tpr_lr)\n",
    "\n",
    "pred_nb = nb.predict_proba(vectorizer.transform(test_data['Review Text']))[:,1]\n",
    "fpr_nb,tpr_nb,_ = roc_curve(test_data['Sentiment'].values,pred_nb)\n",
    "roc_auc_nb = auc(fpr_nb,tpr_nb)\n"
   ]
  },
  {
   "cell_type": "code",
   "execution_count": 17,
   "metadata": {},
   "outputs": [
    {
     "data": {
      "text/plain": [
       "<matplotlib.legend.Legend at 0x18aa3ac8>"
      ]
     },
     "execution_count": 17,
     "metadata": {},
     "output_type": "execute_result"
    },
    {
     "data": {
      "image/png": "[encoded data removed]",
      "text/plain": [
       "<matplotlib.figure.Figure at 0x187b0c18>"
      ]
     },
     "metadata": {},
     "output_type": "display_data"
    }
   ],
   "source": [
    "f, axes = plt.subplots(2, 2,figsize=(15,10))\n",
    "axes[0,0].plot(fpr_lr, tpr_lr, color='darkred', lw=2, label='ROC curve (area = {:0.2f})'.format(roc_auc_lr))\n",
    "axes[0,0].plot([0, 1], [0, 1], color='navy', lw=2, linestyle='--')\n",
    "axes[0,0].set(xlim=[-0.01, 1.0], ylim=[-0.01, 1.05])\n",
    "axes[0,0].set(xlabel ='False Positive Rate', ylabel = 'True Positive Rate', title = 'Logistic Regression')\n",
    "axes[0,0].legend(loc='lower right', fontsize=13)\n",
    "\n",
    "axes[0,1].plot(fpr_nb, tpr_nb, color='darkred', lw=2, label='ROC curve (area = {:0.2f})'.format(roc_auc_nb))\n",
    "axes[0,1].plot([0, 1], [0, 1], color='navy', lw=2, linestyle='--')\n",
    "axes[0,1].set(xlim=[-0.01, 1.0], ylim=[-0.01, 1.05])\n",
    "axes[0,1].set(xlabel ='False Positive Rate', ylabel = 'True Positive Rate', title = 'Naive Bayes')\n",
    "axes[0,1].legend(loc='lower right', fontsize=13)\n"
   ]
  },
  {
   "cell_type": "code",
   "execution_count": null,
   "metadata": {
    "collapsed": true
   },
   "outputs": [],
   "source": []
  }
 ],
 "metadata": {
  "kernelspec": {
   "display_name": "Python 3",
   "language": "python",
   "name": "python3"
  },
  "language_info": {
   "codemirror_mode": {
    "name": "ipython",
    "version": 3
   },
   "file_extension": ".py",
   "mimetype": "text/x-python",
   "name": "python",
   "nbconvert_exporter": "python",
   "pygments_lexer": "ipython3",
   "version": "3.6.3"
  }
 },
 "nbformat": 4,
 "nbformat_minor": 2
}
